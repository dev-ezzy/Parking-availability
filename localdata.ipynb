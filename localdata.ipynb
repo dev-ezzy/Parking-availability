{
 "cells": [
  {
   "cell_type": "code",
   "execution_count": 23,
   "metadata": {},
   "outputs": [],
   "source": [
    "import pandas as pd\n",
    "import numpy as np\n",
    "import seaborn as sns\n",
    "import  matplotlib.pyplot as plt\n",
    "from functools import reduce"
   ]
  },
  {
   "cell_type": "code",
   "execution_count": 2,
   "metadata": {},
   "outputs": [
    {
     "name": "stderr",
     "output_type": "stream",
     "text": [
      "/tmp/ipykernel_22906/2333733181.py:2: DtypeWarning: Columns (0) have mixed types. Specify dtype option on import or set low_memory=False.\n",
      "  usa_data = pd.read_csv(\"CNRPark+EXT.csv\")\n"
     ]
    },
    {
     "data": {
      "text/html": [
       "<div>\n",
       "<style scoped>\n",
       "    .dataframe tbody tr th:only-of-type {\n",
       "        vertical-align: middle;\n",
       "    }\n",
       "\n",
       "    .dataframe tbody tr th {\n",
       "        vertical-align: top;\n",
       "    }\n",
       "\n",
       "    .dataframe thead th {\n",
       "        text-align: right;\n",
       "    }\n",
       "</style>\n",
       "<table border=\"1\" class=\"dataframe\">\n",
       "  <thead>\n",
       "    <tr style=\"text-align: right;\">\n",
       "      <th></th>\n",
       "      <th>camera</th>\n",
       "      <th>datetime</th>\n",
       "      <th>day</th>\n",
       "      <th>hour</th>\n",
       "      <th>image_url</th>\n",
       "      <th>minute</th>\n",
       "      <th>month</th>\n",
       "      <th>occupancy</th>\n",
       "      <th>slot_id</th>\n",
       "      <th>weather</th>\n",
       "      <th>year</th>\n",
       "      <th>occupant_changed</th>\n",
       "    </tr>\n",
       "  </thead>\n",
       "  <tbody>\n",
       "    <tr>\n",
       "      <th>0</th>\n",
       "      <td>A</td>\n",
       "      <td>20150703_0805</td>\n",
       "      <td>3</td>\n",
       "      <td>8</td>\n",
       "      <td>CNRPark/A/free/20150703_0805_1.jpg</td>\n",
       "      <td>5</td>\n",
       "      <td>7</td>\n",
       "      <td>0</td>\n",
       "      <td>1</td>\n",
       "      <td>S</td>\n",
       "      <td>2015</td>\n",
       "      <td>NaN</td>\n",
       "    </tr>\n",
       "    <tr>\n",
       "      <th>1</th>\n",
       "      <td>A</td>\n",
       "      <td>20150703_0810</td>\n",
       "      <td>3</td>\n",
       "      <td>8</td>\n",
       "      <td>CNRPark/A/free/20150703_0810_1.jpg</td>\n",
       "      <td>10</td>\n",
       "      <td>7</td>\n",
       "      <td>0</td>\n",
       "      <td>1</td>\n",
       "      <td>S</td>\n",
       "      <td>2015</td>\n",
       "      <td>NaN</td>\n",
       "    </tr>\n",
       "    <tr>\n",
       "      <th>2</th>\n",
       "      <td>A</td>\n",
       "      <td>20150703_0815</td>\n",
       "      <td>3</td>\n",
       "      <td>8</td>\n",
       "      <td>CNRPark/A/busy/20150703_0815_1.jpg</td>\n",
       "      <td>15</td>\n",
       "      <td>7</td>\n",
       "      <td>1</td>\n",
       "      <td>1</td>\n",
       "      <td>S</td>\n",
       "      <td>2015</td>\n",
       "      <td>0.0</td>\n",
       "    </tr>\n",
       "    <tr>\n",
       "      <th>3</th>\n",
       "      <td>A</td>\n",
       "      <td>20150703_0820</td>\n",
       "      <td>3</td>\n",
       "      <td>8</td>\n",
       "      <td>CNRPark/A/busy/20150703_0820_1.jpg</td>\n",
       "      <td>20</td>\n",
       "      <td>7</td>\n",
       "      <td>1</td>\n",
       "      <td>1</td>\n",
       "      <td>S</td>\n",
       "      <td>2015</td>\n",
       "      <td>0.0</td>\n",
       "    </tr>\n",
       "    <tr>\n",
       "      <th>4</th>\n",
       "      <td>A</td>\n",
       "      <td>20150703_0825</td>\n",
       "      <td>3</td>\n",
       "      <td>8</td>\n",
       "      <td>CNRPark/A/busy/20150703_0825_1.jpg</td>\n",
       "      <td>25</td>\n",
       "      <td>7</td>\n",
       "      <td>1</td>\n",
       "      <td>1</td>\n",
       "      <td>S</td>\n",
       "      <td>2015</td>\n",
       "      <td>0.0</td>\n",
       "    </tr>\n",
       "  </tbody>\n",
       "</table>\n",
       "</div>"
      ],
      "text/plain": [
       "  camera       datetime  day  hour                           image_url  \\\n",
       "0      A  20150703_0805    3     8  CNRPark/A/free/20150703_0805_1.jpg   \n",
       "1      A  20150703_0810    3     8  CNRPark/A/free/20150703_0810_1.jpg   \n",
       "2      A  20150703_0815    3     8  CNRPark/A/busy/20150703_0815_1.jpg   \n",
       "3      A  20150703_0820    3     8  CNRPark/A/busy/20150703_0820_1.jpg   \n",
       "4      A  20150703_0825    3     8  CNRPark/A/busy/20150703_0825_1.jpg   \n",
       "\n",
       "   minute  month  occupancy  slot_id weather  year  occupant_changed  \n",
       "0       5      7          0        1       S  2015               NaN  \n",
       "1      10      7          0        1       S  2015               NaN  \n",
       "2      15      7          1        1       S  2015               0.0  \n",
       "3      20      7          1        1       S  2015               0.0  \n",
       "4      25      7          1        1       S  2015               0.0  "
      ]
     },
     "execution_count": 2,
     "metadata": {},
     "output_type": "execute_result"
    }
   ],
   "source": [
    "#loading data sets\n",
    "usa_data = pd.read_csv(\"CNRPark+EXT.csv\")\n",
    "usa_data.head()"
   ]
  },
  {
   "cell_type": "code",
   "execution_count": 3,
   "metadata": {},
   "outputs": [
    {
     "name": "stdout",
     "output_type": "stream",
     "text": [
      "<class 'pandas.core.frame.DataFrame'>\n",
      "RangeIndex: 385004 entries, 0 to 385003\n",
      "Data columns (total 2 columns):\n",
      " #   Column       Non-Null Count   Dtype  \n",
      "---  ------       --------------   -----  \n",
      " 0   date         385004 non-null  object \n",
      " 1   temperature  385004 non-null  float64\n",
      "dtypes: float64(1), object(1)\n",
      "memory usage: 5.9+ MB\n"
     ]
    }
   ],
   "source": [
    "#temp data\n",
    "temp = pd.read_csv(\"temperature.csv\")\n",
    "temp.info()"
   ]
  },
  {
   "cell_type": "code",
   "execution_count": 4,
   "metadata": {},
   "outputs": [
    {
     "name": "stdout",
     "output_type": "stream",
     "text": [
      "<class 'pandas.core.frame.DataFrame'>\n",
      "RangeIndex: 384946 entries, 0 to 384945\n",
      "Data columns (total 2 columns):\n",
      " #   Column            Non-Null Count   Dtype  \n",
      "---  ------            --------------   -----  \n",
      " 0   date              384946 non-null  object \n",
      " 1   relativeHumidity  384946 non-null  float64\n",
      "dtypes: float64(1), object(1)\n",
      "memory usage: 5.9+ MB\n"
     ]
    }
   ],
   "source": [
    "humidity = pd.read_csv(\"relative_humidity.csv\")\n",
    "humidity.info()"
   ]
  },
  {
   "cell_type": "code",
   "execution_count": 5,
   "metadata": {},
   "outputs": [
    {
     "name": "stdout",
     "output_type": "stream",
     "text": [
      "<class 'pandas.core.frame.DataFrame'>\n",
      "RangeIndex: 384889 entries, 0 to 384888\n",
      "Data columns (total 2 columns):\n",
      " #   Column    Non-Null Count   Dtype  \n",
      "---  ------    --------------   -----  \n",
      " 0   date      384889 non-null  object \n",
      " 1   pressure  384889 non-null  float64\n",
      "dtypes: float64(1), object(1)\n",
      "memory usage: 5.9+ MB\n"
     ]
    }
   ],
   "source": [
    "pascals = pd.read_csv(\"air_pressure.csv\")\n",
    "pascals.info()"
   ]
  },
  {
   "cell_type": "code",
   "execution_count": 6,
   "metadata": {},
   "outputs": [
    {
     "data": {
      "text/html": [
       "<div>\n",
       "<style scoped>\n",
       "    .dataframe tbody tr th:only-of-type {\n",
       "        vertical-align: middle;\n",
       "    }\n",
       "\n",
       "    .dataframe tbody tr th {\n",
       "        vertical-align: top;\n",
       "    }\n",
       "\n",
       "    .dataframe thead th {\n",
       "        text-align: right;\n",
       "    }\n",
       "</style>\n",
       "<table border=\"1\" class=\"dataframe\">\n",
       "  <thead>\n",
       "    <tr style=\"text-align: right;\">\n",
       "      <th></th>\n",
       "      <th>date</th>\n",
       "      <th>temperature</th>\n",
       "      <th>relativeHumidity</th>\n",
       "    </tr>\n",
       "  </thead>\n",
       "  <tbody>\n",
       "    <tr>\n",
       "      <th>0</th>\n",
       "      <td>2022-01-01 00:00:45</td>\n",
       "      <td>21.035860</td>\n",
       "      <td>53.417366</td>\n",
       "    </tr>\n",
       "    <tr>\n",
       "      <th>1</th>\n",
       "      <td>2022-01-01 00:01:50</td>\n",
       "      <td>21.020624</td>\n",
       "      <td>53.440613</td>\n",
       "    </tr>\n",
       "    <tr>\n",
       "      <th>2</th>\n",
       "      <td>2022-01-01 00:05:04</td>\n",
       "      <td>20.947382</td>\n",
       "      <td>53.380020</td>\n",
       "    </tr>\n",
       "    <tr>\n",
       "      <th>3</th>\n",
       "      <td>2022-01-01 00:06:09</td>\n",
       "      <td>20.926874</td>\n",
       "      <td>53.332943</td>\n",
       "    </tr>\n",
       "    <tr>\n",
       "      <th>4</th>\n",
       "      <td>2022-01-01 00:10:28</td>\n",
       "      <td>20.888985</td>\n",
       "      <td>53.270878</td>\n",
       "    </tr>\n",
       "    <tr>\n",
       "      <th>...</th>\n",
       "      <td>...</td>\n",
       "      <td>...</td>\n",
       "      <td>...</td>\n",
       "    </tr>\n",
       "    <tr>\n",
       "      <th>100784</th>\n",
       "      <td>2022-12-19 20:22:19</td>\n",
       "      <td>22.593280</td>\n",
       "      <td>47.455044</td>\n",
       "    </tr>\n",
       "    <tr>\n",
       "      <th>100785</th>\n",
       "      <td>2022-12-19 20:23:24</td>\n",
       "      <td>22.580782</td>\n",
       "      <td>47.539450</td>\n",
       "    </tr>\n",
       "    <tr>\n",
       "      <th>100786</th>\n",
       "      <td>2022-12-19 20:27:43</td>\n",
       "      <td>22.540352</td>\n",
       "      <td>47.503660</td>\n",
       "    </tr>\n",
       "    <tr>\n",
       "      <th>100787</th>\n",
       "      <td>2022-12-19 20:29:54</td>\n",
       "      <td>22.536640</td>\n",
       "      <td>47.515472</td>\n",
       "    </tr>\n",
       "    <tr>\n",
       "      <th>100788</th>\n",
       "      <td>2022-12-19 20:30:59</td>\n",
       "      <td>22.531563</td>\n",
       "      <td>47.496410</td>\n",
       "    </tr>\n",
       "  </tbody>\n",
       "</table>\n",
       "<p>100789 rows × 3 columns</p>\n",
       "</div>"
      ],
      "text/plain": [
       "                       date  temperature  relativeHumidity\n",
       "0       2022-01-01 00:00:45    21.035860         53.417366\n",
       "1       2022-01-01 00:01:50    21.020624         53.440613\n",
       "2       2022-01-01 00:05:04    20.947382         53.380020\n",
       "3       2022-01-01 00:06:09    20.926874         53.332943\n",
       "4       2022-01-01 00:10:28    20.888985         53.270878\n",
       "...                     ...          ...               ...\n",
       "100784  2022-12-19 20:22:19    22.593280         47.455044\n",
       "100785  2022-12-19 20:23:24    22.580782         47.539450\n",
       "100786  2022-12-19 20:27:43    22.540352         47.503660\n",
       "100787  2022-12-19 20:29:54    22.536640         47.515472\n",
       "100788  2022-12-19 20:30:59    22.531563         47.496410\n",
       "\n",
       "[100789 rows x 3 columns]"
      ]
     },
     "execution_count": 6,
     "metadata": {},
     "output_type": "execute_result"
    }
   ],
   "source": [
    "#merging the datasets\n",
    "merged_data = pd.merge(temp, humidity, on= \"date\", how= \"inner\")\n",
    "merged_data"
   ]
  },
  {
   "cell_type": "code",
   "execution_count": 22,
   "metadata": {},
   "outputs": [
    {
     "data": {
      "text/html": [
       "<div>\n",
       "<style scoped>\n",
       "    .dataframe tbody tr th:only-of-type {\n",
       "        vertical-align: middle;\n",
       "    }\n",
       "\n",
       "    .dataframe tbody tr th {\n",
       "        vertical-align: top;\n",
       "    }\n",
       "\n",
       "    .dataframe thead th {\n",
       "        text-align: right;\n",
       "    }\n",
       "</style>\n",
       "<table border=\"1\" class=\"dataframe\">\n",
       "  <thead>\n",
       "    <tr style=\"text-align: right;\">\n",
       "      <th></th>\n",
       "      <th>date</th>\n",
       "      <th>temperature</th>\n",
       "      <th>relativeHumidity</th>\n",
       "      <th>pressure</th>\n",
       "    </tr>\n",
       "  </thead>\n",
       "  <tbody>\n",
       "    <tr>\n",
       "      <th>0</th>\n",
       "      <td>2022-01-01 00:00:45</td>\n",
       "      <td>21.035860</td>\n",
       "      <td>53.417366</td>\n",
       "      <td>NaN</td>\n",
       "    </tr>\n",
       "    <tr>\n",
       "      <th>1</th>\n",
       "      <td>2022-01-01 00:01:50</td>\n",
       "      <td>21.020624</td>\n",
       "      <td>53.440613</td>\n",
       "      <td>NaN</td>\n",
       "    </tr>\n",
       "    <tr>\n",
       "      <th>2</th>\n",
       "      <td>2022-01-01 00:05:04</td>\n",
       "      <td>20.947382</td>\n",
       "      <td>53.380020</td>\n",
       "      <td>NaN</td>\n",
       "    </tr>\n",
       "    <tr>\n",
       "      <th>3</th>\n",
       "      <td>2022-01-01 00:06:09</td>\n",
       "      <td>20.926874</td>\n",
       "      <td>53.332943</td>\n",
       "      <td>NaN</td>\n",
       "    </tr>\n",
       "    <tr>\n",
       "      <th>4</th>\n",
       "      <td>2022-01-01 00:10:28</td>\n",
       "      <td>20.888985</td>\n",
       "      <td>53.270878</td>\n",
       "      <td>NaN</td>\n",
       "    </tr>\n",
       "  </tbody>\n",
       "</table>\n",
       "</div>"
      ],
      "text/plain": [
       "                  date  temperature  relativeHumidity  pressure\n",
       "0  2022-01-01 00:00:45    21.035860         53.417366       NaN\n",
       "1  2022-01-01 00:01:50    21.020624         53.440613       NaN\n",
       "2  2022-01-01 00:05:04    20.947382         53.380020       NaN\n",
       "3  2022-01-01 00:06:09    20.926874         53.332943       NaN\n",
       "4  2022-01-01 00:10:28    20.888985         53.270878       NaN"
      ]
     },
     "execution_count": 22,
     "metadata": {},
     "output_type": "execute_result"
    }
   ],
   "source": [
    "weather_data = pd.merge(merged_data, pascals, on= \"date\", how = \"left\")\n",
    "weather_data.head()"
   ]
  },
  {
   "cell_type": "code",
   "execution_count": 19,
   "metadata": {},
   "outputs": [
    {
     "name": "stdout",
     "output_type": "stream",
     "text": [
      "<class 'pandas.core.frame.DataFrame'>\n",
      "RangeIndex: 384889 entries, 0 to 384888\n",
      "Data columns (total 4 columns):\n",
      " #   Column            Non-Null Count   Dtype  \n",
      "---  ------            --------------   -----  \n",
      " 0   date              384889 non-null  object \n",
      " 1   temperature       0 non-null       float64\n",
      " 2   relativeHumidity  0 non-null       float64\n",
      " 3   pressure          384889 non-null  float64\n",
      "dtypes: float64(3), object(1)\n",
      "memory usage: 11.7+ MB\n"
     ]
    }
   ],
   "source": [
    "weather_data.info()"
   ]
  },
  {
   "cell_type": "code",
   "execution_count": 18,
   "metadata": {},
   "outputs": [
    {
     "data": {
      "text/plain": [
       "date                     0\n",
       "temperature         384889\n",
       "relativeHumidity    384889\n",
       "pressure                 0\n",
       "dtype: int64"
      ]
     },
     "execution_count": 18,
     "metadata": {},
     "output_type": "execute_result"
    }
   ],
   "source": [
    "weather_data.isnull().sum()"
   ]
  },
  {
   "cell_type": "code",
   "execution_count": null,
   "metadata": {},
   "outputs": [],
   "source": []
  }
 ],
 "metadata": {
  "kernelspec": {
   "display_name": "Python 3",
   "language": "python",
   "name": "python3"
  },
  "language_info": {
   "codemirror_mode": {
    "name": "ipython",
    "version": 3
   },
   "file_extension": ".py",
   "mimetype": "text/x-python",
   "name": "python",
   "nbconvert_exporter": "python",
   "pygments_lexer": "ipython3",
   "version": "3.10.12"
  }
 },
 "nbformat": 4,
 "nbformat_minor": 2
}
