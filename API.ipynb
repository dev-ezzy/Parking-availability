{
 "cells": [
  {
   "cell_type": "markdown",
   "metadata": {},
   "source": [
    "## Scraping data from google maps\n",
    "This is a simple script to scrape the number of parking lots in Nairobi ongGoogle Maps. It uses Python and `googlemaps` library , which allows you to interact with google maps database. I have used the Places API offered by google to make the requests and this call returns `json` objects"
   ]
  },
  {
   "cell_type": "code",
   "execution_count": 25,
   "metadata": {},
   "outputs": [],
   "source": [
    "#setting up API key\n",
    "import googlemaps\n",
    "import time\n",
    "import pprint\n",
    "import pandas as pd\n",
    "from api import API_KEY\n",
    "#setting up API key\n",
    "api = API_KEY()\n",
    "gmaps = googlemaps.Client(key= api)\n",
    "#places to search\n",
    "to_search = gmaps.places_nearby(location= \"-1.286389, 36.817223\", radius= 50000,\n",
    "                                open_now = False, type = \"parking\")\n",
    "#empty list\n",
    "detailed_data = []\n",
    "\n",
    "next_page_token = to_search.get(\"next_page_token\")\n",
    "\n",
    "#loop through\n",
    "while next_page_token:\n",
    "    for park in to_search[\"results\"]:\n",
    "        #get park id\n",
    "        parking_id = park['place_id']\n",
    "        #defining info we want sent back by the API\n",
    "        park_fields = ['utc_offset', 'review', 'url', 'place_id', 'wheelchair_accessible_entrance', 'curbside_pickup',\n",
    "                    'reviews', 'name', 'geometry/location','price_level', 'secondary_opening_hours', 'current_opening_hours',\n",
    "                    'geometry', 'editorial_summary', 'reservable', 'address_component', 'type', 'rating', 'formatted_address',\n",
    "                    'takeout', 'user_ratings_total', 'business_status', 'icon', 'formatted_phone_number', 'adr_address',\n",
    "                    'opening_hours', 'permanently_closed', 'photo', 'plus_code', 'vicinity']\n",
    "        # perk_fields = \n",
    "        #make a detail request\n",
    "        park_details = gmaps.place(place_id= parking_id, fields=park_fields)\n",
    "    \n",
    "        detailed_data.append(park_details[\"result\"])  # Append the \"result\" dictionary\n",
    "        \n",
    "        # Get the next page token\n",
    "    next_page_token = to_search.get(\"next_page_token\")\n",
    "        \n",
    "    if next_page_token:\n",
    "        to_search = gmaps.places_nearby(page_token=next_page_token)\n",
    "\n",
    "parking_df = pd.DataFrame(detailed_data)\n",
    "\n",
    "parking_df.head()\n",
    "\n",
    "\n"
   ]
  },
  {
   "cell_type": "code",
   "execution_count": 24,
   "metadata": {},
   "outputs": [
    {
     "name": "stdout",
     "output_type": "stream",
     "text": [
      "[{'height': 4032, 'html_attributions': ['<a href=\"https://maps.google.com/maps/contrib/114950546488223001818\">PTAHRANKING PHOTOGRAPHY</a>'], 'photo_reference': 'AWU5eFjQTFHI4cZ5bFEPmo8B4RanrK8Qmg76K1rY0qRWxgqivSexam06JJhhiNB0Of0oVEHp_ozPPN-lt7n_gwKQp5eHBk24jJvUKo5xMnD8G__L0zkxxsNYfd3m02xkFT8JMgYXo4d6VUrKji5XpP07dD_CJcO6Y0D7fbdU4ziLAWM1UAqf', 'width': 3024}, {'height': 3264, 'html_attributions': ['<a href=\"https://maps.google.com/maps/contrib/102993733128250520864\">Joe Mamboleo</a>'], 'photo_reference': 'AWU5eFiPEpTowQBmdXpCCGPxU2eUj7D-5y-rd7sor7eydKoyBWY_RsIoeUVh0NiwkjcfR7qyxkrumkNUheaHWOzOKz03qGzKast7khQDAy-OwbMbLPyuE649_jxbdkQwOzXS3CXnMn5SDcg0GdQL5kfGB7-y5SidMKKESmdx8-4ywypl4aYh', 'width': 1836}]\n"
     ]
    }
   ],
   "source": [
    "print(parking_df[\"photos\"][2])"
   ]
  },
  {
   "cell_type": "code",
   "execution_count": 23,
   "metadata": {},
   "outputs": [
    {
     "name": "stdout",
     "output_type": "stream",
     "text": [
      "<class 'pandas.core.frame.DataFrame'>\n",
      "RangeIndex: 60 entries, 0 to 59\n",
      "Data columns (total 21 columns):\n",
      " #   Column                          Non-Null Count  Dtype  \n",
      "---  ------                          --------------  -----  \n",
      " 0   address_components              60 non-null     object \n",
      " 1   adr_address                     60 non-null     object \n",
      " 2   business_status                 60 non-null     object \n",
      " 3   formatted_address               60 non-null     object \n",
      " 4   geometry                        60 non-null     object \n",
      " 5   icon                            60 non-null     object \n",
      " 6   name                            60 non-null     object \n",
      " 7   photos                          32 non-null     object \n",
      " 8   place_id                        60 non-null     object \n",
      " 9   rating                          46 non-null     float64\n",
      " 10  reviews                         46 non-null     object \n",
      " 11  types                           60 non-null     object \n",
      " 12  url                             60 non-null     object \n",
      " 13  user_ratings_total              46 non-null     float64\n",
      " 14  utc_offset                      60 non-null     int64  \n",
      " 15  vicinity                        60 non-null     object \n",
      " 16  wheelchair_accessible_entrance  40 non-null     object \n",
      " 17  formatted_phone_number          17 non-null     object \n",
      " 18  plus_code                       14 non-null     object \n",
      " 19  current_opening_hours           19 non-null     object \n",
      " 20  opening_hours                   19 non-null     object \n",
      "dtypes: float64(2), int64(1), object(18)\n",
      "memory usage: 10.0+ KB\n"
     ]
    }
   ],
   "source": [
    "#df info\n",
    "parking_df.info()"
   ]
  }
 ],
 "metadata": {
  "kernelspec": {
   "display_name": "Python 3",
   "language": "python",
   "name": "python3"
  },
  "language_info": {
   "codemirror_mode": {
    "name": "ipython",
    "version": 3
   },
   "file_extension": ".py",
   "mimetype": "text/x-python",
   "name": "python",
   "nbconvert_exporter": "python",
   "pygments_lexer": "ipython3",
   "version": "3.10.12"
  }
 },
 "nbformat": 4,
 "nbformat_minor": 2
}
