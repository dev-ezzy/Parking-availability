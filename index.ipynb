{
 "cells": [
  {
   "cell_type": "code",
   "execution_count": 19,
   "metadata": {},
   "outputs": [],
   "source": [
    "#importing libraries\n",
    "import os\n",
    "import time\n",
    "import string\n",
    "import openpyxl\n",
    "from selenium import webdriver\n",
    "from selenium.webdriver.common.by import By\n",
    "from selenium.webdriver.common.keys import Keys\n",
    "from selenium.webdriver.support.ui import WebDriverWait\n",
    "from selenium.webdriver.support.expected_conditions import presence_of_element_located\n",
    "from selenium.common.exceptions import NoSuchElementException\n"
   ]
  },
  {
   "cell_type": "code",
   "execution_count": 20,
   "metadata": {},
   "outputs": [],
   "source": [
    "#path to chromium browser\n",
    "path = '/snap/chromium/common/chromium'\n",
    "# Set up the binary location in ChromeOptions\n",
    "chrome_options = webdriver.ChromeOptions()\n",
    "chrome_options.binary_location = path\n",
    "# Instantiate a Chrome WebDriver with ChromeOptions\n",
    "driver = webdriver.Chrome(options=chrome_options)\n",
    "wait = WebDriverWait(driver, 4)\n"
   ]
  },
  {
   "cell_type": "code",
   "execution_count": 21,
   "metadata": {},
   "outputs": [],
   "source": [
    "#opening google_maps\n",
    "driver.get(\"https://www.google.com/maps/search/parking+lots+in+nairobi+/@-1.2868011,36.7872934,14z/data=!3m1!4b1?authuser=0&entry=ttu\")\n",
    "#finding the searchbox in our console\n",
    "driver.switch_to.default_content()\n",
    "search_bar = driver.find_element(\"id\", \"searchboxinput\")\n",
    "search = \"parking plots in Nairobi\"\n",
    "#searching for the parking lots\n",
    "search_bar.send_keys(search)\n",
    "search_bar.send_keys(Keys.ENTER)"
   ]
  },
  {
   "cell_type": "code",
   "execution_count": 22,
   "metadata": {},
   "outputs": [],
   "source": [
    "#results from the searchbox\n",
    "results = driver.find_elements(By.XPATH, \"//div[contains(@class, 'section-result')]\")"
   ]
  },
  {
   "cell_type": "code",
   "execution_count": 23,
   "metadata": {},
   "outputs": [
    {
     "name": "stderr",
     "output_type": "stream",
     "text": [
      "/tmp/ipykernel_5461/1014083925.py:3: DeprecationWarning: Call to deprecated function get_sheet_names (Use wb.sheetnames).\n",
      "  sheet_name = ex_sheet.get_sheet_names()[0]\n"
     ]
    }
   ],
   "source": [
    "#setting up a spreadsheet using openyxl\n",
    "ex_sheet = openpyxl.load_workbook(\"MAPS.xlsx\")\n",
    "sheet_name = ex_sheet.get_sheet_names()[0]\n",
    "sheet= ex_sheet[sheet_name]\n",
    "sheet.title= \"Maps_nairobi\""
   ]
  },
  {
   "cell_type": "code",
   "execution_count": null,
   "metadata": {},
   "outputs": [],
   "source": []
  },
  {
   "cell_type": "code",
   "execution_count": null,
   "metadata": {},
   "outputs": [],
   "source": []
  },
  {
   "cell_type": "code",
   "execution_count": 24,
   "metadata": {},
   "outputs": [],
   "source": [
    "#extracting info\n",
    "for result in results:\n",
    "    #empty list\n",
    "    maps_labels = []\n",
    "\n",
    "    name = result.get_attribute(\"aerial-label\")\n",
    "    address = result.find_element_by_class_name(\"selection-result-location\").text\n",
    "    phone = result.find_element_by_class_name(\"section-result-hours-phone-container\").text\n",
    "    try: \n",
    "        webcontainer = result.find_element_by_class_name(\"section-result-action-container\")\n",
    "        website = result.find_element_by_class_name(\"a\").get_attribute(\"href\")\n",
    "    except NoSuchElementException:\n",
    "        website = \"no website found\"\n",
    "        print(name)\n",
    "        print(website)\n",
    "\n",
    "    try:\n",
    "        sheet.append([\"location\",name, address, phone, website])\n",
    "    except IndexError:\n",
    "        pass\n",
    "    "
   ]
  },
  {
   "cell_type": "code",
   "execution_count": 25,
   "metadata": {},
   "outputs": [],
   "source": [
    "#saving the file\n",
    "ex_sheet.save(\"MAPS.xlsx\")"
   ]
  },
  {
   "cell_type": "code",
   "execution_count": null,
   "metadata": {},
   "outputs": [],
   "source": []
  }
 ],
 "metadata": {
  "kernelspec": {
   "display_name": "Python 3",
   "language": "python",
   "name": "python3"
  },
  "language_info": {
   "codemirror_mode": {
    "name": "ipython",
    "version": 3
   },
   "file_extension": ".py",
   "mimetype": "text/x-python",
   "name": "python",
   "nbconvert_exporter": "python",
   "pygments_lexer": "ipython3",
   "version": "3.10.12"
  }
 },
 "nbformat": 4,
 "nbformat_minor": 2
}
